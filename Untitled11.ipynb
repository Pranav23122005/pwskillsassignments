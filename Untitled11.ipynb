{
  "nbformat": 4,
  "nbformat_minor": 0,
  "metadata": {
    "colab": {
      "provenance": []
    },
    "kernelspec": {
      "name": "python3",
      "display_name": "Python 3"
    },
    "language_info": {
      "name": "python"
    }
  },
  "cells": [
    {
      "cell_type": "code",
      "execution_count": null,
      "metadata": {
        "id": "SkKNFEqu6XS0"
      },
      "outputs": [],
      "source": [
        "'''\n",
        "1.Qualitative Data (Categorical): This type describes things that can be categorized, but not measured numerically.\n",
        "\n",
        "Nominal Scale: These are categories that don’t have a specific order. For example, the different colors of a car (red, blue, green) or types of animals (dog, cat, bird).\n",
        "Ordinal Scale: These are categories that have a specific order or ranking, but the difference between each rank isn’t necessarily equal. For instance, rating customer service as \"poor\", \"good\", or \"excellent\". The order matters, but the difference between \"good\" and \"excellent\" isn’t the same as between \"poor\" and \"good\".\n",
        "Quantitative Data (Numerical): This type involves numbers that can be measured and counted.\n",
        "\n",
        "Interval Scale: These are numerical values with consistent differences between them, but no true zero. Temperature in Celsius or Fahrenheit is an example—20°C is 10 degrees more than 10°C, but 0°C doesn’t mean \"nothing\".\n",
        "Ratio Scale: This also has consistent differences, but with a true zero. So, it makes sense to say things like \"twice as much\". Examples include height, weight, and age.\n",
        "\n",
        "2.\n",
        "When we’re looking at a set of data, we often want to find the “center” of it. This is where measures of central tendency come in:\n",
        "\n",
        "Mean (Average): Add up all the numbers and divide by how many numbers there are. It’s great when data isn’t skewed by extreme values.\n",
        "\n",
        "Example: Average score of students in a class.\n",
        "Median: The middle value when the data is sorted from lowest to highest. If there’s an odd number of data points, it’s the middle one; if there’s an even number, it’s the average of the two middle ones. Use the median when there are outliers or skewed data.\n",
        "\n",
        "Example: Median household income—since income data can have extreme outliers, the median gives a better picture of “typical” income.\n",
        "Mode: The value that occurs most often. It’s helpful for categorical data or when you want to know the most common item.\n",
        "\n",
        "Example: Most common shoe size sold in a store.\n",
        "\n",
        "3.\n",
        "Dispersion is about how spread out the data is. Two common ways to measure dispersion are variance and standard deviation.\n",
        "\n",
        "Variance: Measures how far each number in the set is from the mean, but the units are squared, so it’s not always easy to interpret directly.\n",
        "Standard Deviation: The square root of variance. It gives us a more intuitive measure of spread, because it’s in the same units as the original data. A larger standard deviation means the data is more spread out.\n",
        "\n",
        "4.\n",
        "A box plot (or box-and-whisker plot) visually shows the distribution of a dataset. It displays the median, the quartiles (which divide the data into four equal parts), and potential outliers. The \"box\" shows the interquartile range (IQR), and the \"whiskers\" extend to show the rest of the data, except outliers. It’s a great tool to identify the range and symmetry of data, as well as spot any extreme values.\n",
        "\n",
        "5.\n",
        "Random sampling means selecting a subset of a population so that every individual has an equal chance of being chosen. It's crucial for making inferences about a population, because it helps ensure that the sample is representative, avoiding bias. For example, if you want to know the average height of students at a university, taking a random sample from various departments will give you a better estimate than just asking people from one department.\n",
        "\n",
        "6.Skewness refers to the direction the data leans.\n",
        "\n",
        "Positive skew (right skew): The right tail of the distribution is longer, meaning the majority of values are lower.\n",
        "Negative skew (left skew): The left tail is longer, meaning most values are higher.\n",
        "Skewness affects the mean, making it higher or lower than the median, depending on the direction.\n",
        "\n",
        "\n",
        "7.the interquartile range (IQR) is the difference between the third quartile (Q3) and the first quartile (Q1). It measures the middle 50% of the data. The IQR is used to detect outliers: any data point that lies 1.5 times the IQR above Q3 or below Q1 is considered an outlier.\n",
        "\n",
        "8.The binomial distribution is used when there are exactly two possible outcomes (success or failure) and a fixed number of trials. Conditions for using the binomial distribution include:\n",
        "\n",
        "A fixed number of trials.\n",
        "Each trial is independent.\n",
        "Each trial has the same probability of success.\n",
        "Example: Flipping a coin 10 times, where we calculate the probability of getting exactly 6 heads.\n",
        "\n",
        "9.\n",
        "The normal distribution is a bell-shaped curve that’s symmetric around the mean. It’s commonly seen in real-world data, like height or IQ scores. The empirical rule (also known as the 68-95-99.7 rule) states that:\n",
        "\n",
        "68% of data falls within 1 standard deviation of the mean.\n",
        "95% falls within 2 standard deviations.\n",
        "99.7% falls within 3 standard deviations.\n",
        "\n",
        "10.\n",
        "A Poisson process models the occurrence of events happening at a constant average rate over time. It’s used when the events are independent and rare.\n",
        "\n",
        "Example: The number of customers arriving at a bank in an hour. If you want to calculate the probability of exactly 3 customers arriving in a given hour, you would use the Poisson distribution to find that probability.\n",
        "\n",
        "11.\n",
        "A random variable is a numerical outcome of a random event.\n",
        "\n",
        "Discrete random variables take on a countable number of values (like the number of heads when flipping a coin).\n",
        "Continuous random variables can take any value within a given range (like the height of a person or the time it takes to run a race).\n",
        "\n",
        "12.Covariance measures the relationship between two variables, but it’s hard to interpret because its value depends on the scale of the data.\n",
        "Correlation standardizes the covariance, making it easier to understand. It ranges from -1 to 1, where 1 means perfect positive correlation, -1 means perfect negative correlation, and 0 means no correlation.\n",
        "Example dataset (x: [2, 3, 4], y: [5, 6, 7]):\n",
        "\n",
        "Covariance tells you if x and y move together, but correlation tells you the strength and direction of the relationship (in this case, positive correlation).\n",
        "'''"
      ]
    },
    {
      "cell_type": "code",
      "source": [],
      "metadata": {
        "id": "bzFLRKs-7ui_"
      },
      "execution_count": null,
      "outputs": []
    }
  ]
}