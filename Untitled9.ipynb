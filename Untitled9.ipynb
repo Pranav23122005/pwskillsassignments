{
  "nbformat": 4,
  "nbformat_minor": 0,
  "metadata": {
    "colab": {
      "provenance": []
    },
    "kernelspec": {
      "name": "python3",
      "display_name": "Python 3"
    },
    "language_info": {
      "name": "python"
    }
  },
  "cells": [
    {
      "cell_type": "code",
      "source": [
        "'''1\n",
        "function is a standalone block of reusable code defined using the def keyword. It can be called independently.\n",
        "method is a A function that is associated with an object. It is called on the object and can access and modify its attributes. Methods are defined in classes.\n",
        "2.\n",
        "parameters are variables listed in the function's definition.\n",
        "Arguments are the values passed to the function when it is called.\n",
        "3.\n",
        "for defining we can use def keywoard and other functions are also there such as lambda map,etc\n",
        "def greet():\n",
        "    return \"Hello!\"\n",
        "to call a function we use print(greet())\n",
        "4.\n",
        "he return statement is used to send a value back to the caller of the function.\n",
        "Without a return statement, the function returns None by default.\n",
        "5.Iterable: An object that can be iterated over (e.g., lists, tuples, dictionaries).\n",
        "Iterator: An object that represents a stream of data.\n",
        "Difference: An iterable can be converted into an iterator using iter(). An iterator produces elements one at a time using next().\n",
        "6.\n",
        "Generators are special functions that yield values one at a time using the yield keyword instead of return.\n",
        "Defined using a function or generator expression.\n",
        "7.\n",
        "they are memory efficient: Do not store all values in memory; generate them on the fly.\n",
        "Lazy Evaluation: Produce items only when needed.\n",
        "Pipelining: Useful for processing streams of data.\n",
        "8.\n",
        "A small, anonymous function defined using the lambda keyword.\n",
        "Typically used for short, simple operations.\n",
        "9.\n",
        "Apply a given function to all items in an iterable.\n",
        "map(function ,input)\n",
        "10.\n",
        "map(): Applies a function to each element in an iterable.\n",
        "reduce(): Aggregates all elements in an iterable into a single result.\n",
        "filter(): Filters elements in an iterable based on a condition.\n",
        "11,\n",
        "\n",
        "'''"
      ],
      "metadata": {
        "id": "GF3NRdI_xnFz"
      },
      "execution_count": null,
      "outputs": []
    },
    {
      "cell_type": "code",
      "execution_count": 2,
      "metadata": {
        "colab": {
          "base_uri": "https://localhost:8080/"
        },
        "id": "NC10kODkxgJm",
        "outputId": "72d26c1c-73e6-4b35-91c9-cf8bcb8dc904"
      },
      "outputs": [
        {
          "output_type": "stream",
          "name": "stdout",
          "text": [
            "Enter the number of elements in the list3\n",
            "Enter element2\n",
            "Enter element4\n",
            "Enter element1\n",
            "6\n"
          ]
        }
      ],
      "source": [
        "#Write a Python function that takes a list of numbers as input and returns the sum of all even numbers in the list\n",
        "def esum(l):\n",
        "    s=0\n",
        "    for i in l:\n",
        "        if i %2==0:\n",
        "            s+=i\n",
        "    return s\n",
        "l=[]\n",
        "x= int(input(\"Enter the number of elements in the list\"))\n",
        "for i in range(x):\n",
        "    f=int(input(\"Enter element\"))\n",
        "    l.append(f)\n",
        "print(esum(l))"
      ]
    },
    {
      "cell_type": "code",
      "source": [
        "#Create a Python function that accepts a string and returns the reverse of that string.\n",
        "def reverse(s):\n",
        "    return s[::-1]\n",
        "s=input(\"Enter the string\")\n",
        "print(reverse(s))"
      ],
      "metadata": {
        "colab": {
          "base_uri": "https://localhost:8080/"
        },
        "id": "F8fjjnaenm3o",
        "outputId": "51f29771-6989-494c-f479-ad53f025b54d"
      },
      "execution_count": 3,
      "outputs": [
        {
          "output_type": "stream",
          "name": "stdout",
          "text": [
            "Enter the stringHello\n",
            "olleH\n"
          ]
        }
      ]
    },
    {
      "cell_type": "code",
      "source": [
        "# Implement a Python function that takes a list of integers and returns a new list containing the squares of each number.\n",
        "def square(l):\n",
        "    l1=[]\n",
        "    for i in l:\n",
        "        l1.append(i**2)\n",
        "    return l1\n",
        "l=[1,2,3,4,5]\n",
        "print(square(l))\n"
      ],
      "metadata": {
        "colab": {
          "base_uri": "https://localhost:8080/"
        },
        "id": "9nd4xGBqn6ZU",
        "outputId": "a7e79891-b3db-4f61-8bea-1d39632bc521"
      },
      "execution_count": 4,
      "outputs": [
        {
          "output_type": "stream",
          "name": "stdout",
          "text": [
            "[1, 4, 9, 16, 25]\n"
          ]
        }
      ]
    },
    {
      "cell_type": "code",
      "source": [
        "#4. Write a Python function that checks if a given number is prime or not from 1 to 200.\n",
        "def pri(n):\n",
        "  for i in range(2,n):\n",
        "    if n%i==0:\n",
        "      return False\n",
        "  return True\n",
        "n=int(input(\"Enter the number\"))\n",
        "print(pri(n))"
      ],
      "metadata": {
        "colab": {
          "base_uri": "https://localhost:8080/"
        },
        "id": "rUHSjn0BoST8",
        "outputId": "f97d47d9-6c8b-4ee3-bd63-95d2b4af0ee0"
      },
      "execution_count": 6,
      "outputs": [
        {
          "output_type": "stream",
          "name": "stdout",
          "text": [
            "Enter the number97\n",
            "True\n"
          ]
        }
      ]
    },
    {
      "cell_type": "code",
      "source": [
        "#Create an iterator class in Python that generates the Fibonacci sequence up to a specified number of terms.\n",
        "def fibo(n):\n",
        "  if n==0:\n",
        "    return 0\n",
        "  elif n==1:\n",
        "    return 1\n",
        "  else:\n",
        "    return fibo(n-1)+fibo(n-2)\n",
        "n=int(input(\"Enter the number of terms\"))\n",
        "for i in range(n):\n",
        "  print(fibo(i))"
      ],
      "metadata": {
        "colab": {
          "base_uri": "https://localhost:8080/"
        },
        "id": "JrJYQLnIom8l",
        "outputId": "580c27d5-7c36-4164-f943-6a9b12a313ab"
      },
      "execution_count": 7,
      "outputs": [
        {
          "output_type": "stream",
          "name": "stdout",
          "text": [
            "Enter the number of terms4\n",
            "0\n",
            "1\n",
            "1\n",
            "2\n"
          ]
        }
      ]
    },
    {
      "cell_type": "code",
      "source": [
        "#Write a generator function in Python that yields the powers of 2 up to a given exponent.\n",
        "def pow(n):\n",
        "  for i in range(n):\n",
        "    yield 2**i\n",
        "n=int(input(\"Enter exponent\"))\n",
        "for i in pow(n):\n",
        "  print(i)"
      ],
      "metadata": {
        "colab": {
          "base_uri": "https://localhost:8080/"
        },
        "id": "LbO3pmPMpmYc",
        "outputId": "b73382c7-0883-41b1-9ddd-54a66d29b253"
      },
      "execution_count": 9,
      "outputs": [
        {
          "output_type": "stream",
          "name": "stdout",
          "text": [
            "Enter exponent3\n",
            "1\n",
            "2\n",
            "4\n"
          ]
        }
      ]
    },
    {
      "cell_type": "code",
      "source": [
        "#7. Implement a generator function that reads a file line by line and print each line as a string.\n",
        "\n",
        "\n"
      ],
      "metadata": {
        "id": "l4FkCRPeqMiF"
      },
      "execution_count": 23,
      "outputs": []
    },
    {
      "cell_type": "code",
      "source": [
        "#8. Use a lambda function in Python to sort a list of tuples based on the second element of each tuple.\n",
        "l=[(1,2),(3,4),(5,6)]\n",
        "l.sort(key=lambda x:x[1])\n",
        "print(l)"
      ],
      "metadata": {
        "colab": {
          "base_uri": "https://localhost:8080/"
        },
        "id": "INtLmgr3su05",
        "outputId": "8f8a284d-336d-4378-8a94-fe091388e675"
      },
      "execution_count": 12,
      "outputs": [
        {
          "output_type": "stream",
          "name": "stdout",
          "text": [
            "[(1, 2), (3, 4), (5, 6)]\n"
          ]
        }
      ]
    },
    {
      "cell_type": "code",
      "source": [
        "#9. Write a Python program that uses `map()` to convert a list of temperatures from Celsius to Fahrenheit.\n",
        "l=[20,30,67,98]\n",
        "def conv(t):\n",
        "  return 32+1.8*t\n",
        "out= map(conv,l)\n",
        "print(list(out))"
      ],
      "metadata": {
        "colab": {
          "base_uri": "https://localhost:8080/"
        },
        "id": "q6UVoaebs-BQ",
        "outputId": "570c9bf6-ce05-4feb-c49c-4237d7247534"
      },
      "execution_count": 14,
      "outputs": [
        {
          "output_type": "stream",
          "name": "stdout",
          "text": [
            "[68.0, 86.0, 152.60000000000002, 208.4]\n"
          ]
        }
      ]
    },
    {
      "cell_type": "code",
      "source": [
        "#10. Create a Python program that uses `filter()` to remove all the vowels from a given string.\n",
        "def vov(s):\n",
        "  for i in s:\n",
        "    return i not in \"aeiouAEIOU\"\n",
        "out =filter(vov,\"Hello World\")\n",
        "s=\"\";\n",
        "for i in list(out):\n",
        "  s+=i\n",
        "print(s)"
      ],
      "metadata": {
        "colab": {
          "base_uri": "https://localhost:8080/"
        },
        "id": "WD8BgwAhuaAe",
        "outputId": "0ae262ca-0f40-4d6b-a4cc-e817083d1c4b"
      },
      "execution_count": 20,
      "outputs": [
        {
          "output_type": "stream",
          "name": "stdout",
          "text": [
            "Hll Wrld\n"
          ]
        }
      ]
    },
    {
      "cell_type": "code",
      "source": [
        "#11\n",
        "books = [\n",
        "    [34587, \"Learning Python, Mark Lutz\", 4, 40.95],\n",
        "    [98762, \"Programming Python, Mark Lutz\", 5, 56.80],\n",
        "    [77226, \"Head First Python, Paul Barry\", 3, 32.95],\n",
        "    [88112, \"Einführung in Python3, Bernd Klein\", 3, 24.99]\n",
        "]\n",
        "result = list(map(\n",
        "    lambda x: (x[0], round(x[2] * x[3] + (10 if x[2] * x[3] < 100 else 0), 2)),\n",
        "    books\n",
        "))\n",
        "\n",
        "print(result)\n"
      ],
      "metadata": {
        "colab": {
          "base_uri": "https://localhost:8080/"
        },
        "id": "y7rCa67sw39y",
        "outputId": "c32f028f-7d84-43cf-bebf-a587b3555f49"
      },
      "execution_count": 21,
      "outputs": [
        {
          "output_type": "stream",
          "name": "stdout",
          "text": [
            "[(34587, 163.8), (98762, 284.0), (77226, 108.85), (88112, 84.97)]\n"
          ]
        }
      ]
    }
  ]
}